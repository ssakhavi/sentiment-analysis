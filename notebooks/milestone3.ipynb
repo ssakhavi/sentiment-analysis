{
 "cells": [
  {
   "cell_type": "code",
   "execution_count": 2,
   "metadata": {},
   "outputs": [
    {
     "name": "stdout",
     "output_type": "stream",
     "text": [
      "2021-01-08 16:37:17,306 - kedro.io.data_catalog - INFO - Loading data from `small_corpus_with_sentiment` (CSVDataSet)...\n"
     ]
    },
    {
     "data": {
      "text/html": [
       "<div>\n",
       "<style scoped>\n",
       "    .dataframe tbody tr th:only-of-type {\n",
       "        vertical-align: middle;\n",
       "    }\n",
       "\n",
       "    .dataframe tbody tr th {\n",
       "        vertical-align: top;\n",
       "    }\n",
       "\n",
       "    .dataframe thead th {\n",
       "        text-align: right;\n",
       "    }\n",
       "</style>\n",
       "<table border=\"1\" class=\"dataframe\">\n",
       "  <thead>\n",
       "    <tr style=\"text-align: right;\">\n",
       "      <th></th>\n",
       "      <th>rating</th>\n",
       "      <th>reviews</th>\n",
       "      <th>sentiment_score</th>\n",
       "    </tr>\n",
       "  </thead>\n",
       "  <tbody>\n",
       "    <tr>\n",
       "      <th>0</th>\n",
       "      <td>1</td>\n",
       "      <td>Recently UBISOFT had to settle a huge class-ac...</td>\n",
       "      <td>3.0</td>\n",
       "    </tr>\n",
       "    <tr>\n",
       "      <th>1</th>\n",
       "      <td>1</td>\n",
       "      <td>code didn't work, got me a refund.</td>\n",
       "      <td>1.0</td>\n",
       "    </tr>\n",
       "    <tr>\n",
       "      <th>2</th>\n",
       "      <td>1</td>\n",
       "      <td>these do not work at all, all i get is static ...</td>\n",
       "      <td>1.0</td>\n",
       "    </tr>\n",
       "    <tr>\n",
       "      <th>3</th>\n",
       "      <td>1</td>\n",
       "      <td>well let me start by saying that when i first ...</td>\n",
       "      <td>-2.0</td>\n",
       "    </tr>\n",
       "    <tr>\n",
       "      <th>4</th>\n",
       "      <td>1</td>\n",
       "      <td>Dont waste your money, you will just end up us...</td>\n",
       "      <td>1.0</td>\n",
       "    </tr>\n",
       "  </tbody>\n",
       "</table>\n",
       "</div>"
      ],
      "text/plain": [
       "   rating                                            reviews  sentiment_score\n",
       "0       1  Recently UBISOFT had to settle a huge class-ac...              3.0\n",
       "1       1                 code didn't work, got me a refund.              1.0\n",
       "2       1  these do not work at all, all i get is static ...              1.0\n",
       "3       1  well let me start by saying that when i first ...             -2.0\n",
       "4       1  Dont waste your money, you will just end up us...              1.0"
      ]
     },
     "execution_count": 2,
     "metadata": {},
     "output_type": "execute_result"
    }
   ],
   "source": [
    "smallsentiment_df = catalog.load(\"small_corpus_with_sentiment\")\n",
    "smallsentiment_df.head(5)"
   ]
  },
  {
   "cell_type": "code",
   "execution_count": 3,
   "metadata": {},
   "outputs": [
    {
     "name": "stderr",
     "output_type": "stream",
     "text": [
      "/home/siavash/anaconda3/envs/sent/lib/python3.7/site-packages/ipykernel/ipkernel.py:283: DeprecationWarning: `should_run_async` will not call `transform_cell` automatically in the future. Please pass the result to `transformed_cell` argument and any exception that happen during thetransform in `preprocessing_exc_tuple` in IPython 7.17 and above.\n",
      "  and should_run_async(code)\n"
     ]
    },
    {
     "data": {
      "text/html": [
       "<div>\n",
       "<style scoped>\n",
       "    .dataframe tbody tr th:only-of-type {\n",
       "        vertical-align: middle;\n",
       "    }\n",
       "\n",
       "    .dataframe tbody tr th {\n",
       "        vertical-align: top;\n",
       "    }\n",
       "\n",
       "    .dataframe thead th {\n",
       "        text-align: right;\n",
       "    }\n",
       "</style>\n",
       "<table border=\"1\" class=\"dataframe\">\n",
       "  <thead>\n",
       "    <tr style=\"text-align: right;\">\n",
       "      <th></th>\n",
       "      <th>rating</th>\n",
       "      <th>reviews</th>\n",
       "      <th>sentiment_score</th>\n",
       "      <th>rating_class</th>\n",
       "      <th>sentiment_score_class</th>\n",
       "    </tr>\n",
       "  </thead>\n",
       "  <tbody>\n",
       "    <tr>\n",
       "      <th>0</th>\n",
       "      <td>1</td>\n",
       "      <td>Recently UBISOFT had to settle a huge class-ac...</td>\n",
       "      <td>3.0</td>\n",
       "      <td>-1</td>\n",
       "      <td>1</td>\n",
       "    </tr>\n",
       "    <tr>\n",
       "      <th>1</th>\n",
       "      <td>1</td>\n",
       "      <td>code didn't work, got me a refund.</td>\n",
       "      <td>1.0</td>\n",
       "      <td>-1</td>\n",
       "      <td>1</td>\n",
       "    </tr>\n",
       "    <tr>\n",
       "      <th>2</th>\n",
       "      <td>1</td>\n",
       "      <td>these do not work at all, all i get is static ...</td>\n",
       "      <td>1.0</td>\n",
       "      <td>-1</td>\n",
       "      <td>1</td>\n",
       "    </tr>\n",
       "    <tr>\n",
       "      <th>3</th>\n",
       "      <td>1</td>\n",
       "      <td>well let me start by saying that when i first ...</td>\n",
       "      <td>-2.0</td>\n",
       "      <td>-1</td>\n",
       "      <td>-1</td>\n",
       "    </tr>\n",
       "    <tr>\n",
       "      <th>4</th>\n",
       "      <td>1</td>\n",
       "      <td>Dont waste your money, you will just end up us...</td>\n",
       "      <td>1.0</td>\n",
       "      <td>-1</td>\n",
       "      <td>1</td>\n",
       "    </tr>\n",
       "    <tr>\n",
       "      <th>5</th>\n",
       "      <td>1</td>\n",
       "      <td>i ordered this and said it was tested and work...</td>\n",
       "      <td>1.0</td>\n",
       "      <td>-1</td>\n",
       "      <td>1</td>\n",
       "    </tr>\n",
       "    <tr>\n",
       "      <th>6</th>\n",
       "      <td>1</td>\n",
       "      <td>UPDATE, 2010:  This review is pretty old, and ...</td>\n",
       "      <td>-3.0</td>\n",
       "      <td>-1</td>\n",
       "      <td>-1</td>\n",
       "    </tr>\n",
       "    <tr>\n",
       "      <th>7</th>\n",
       "      <td>1</td>\n",
       "      <td>I WISH I COULD GET RID OF IT!!</td>\n",
       "      <td>2.0</td>\n",
       "      <td>-1</td>\n",
       "      <td>1</td>\n",
       "    </tr>\n",
       "    <tr>\n",
       "      <th>8</th>\n",
       "      <td>1</td>\n",
       "      <td>What in the hell is this i can say that some o...</td>\n",
       "      <td>1.0</td>\n",
       "      <td>-1</td>\n",
       "      <td>1</td>\n",
       "    </tr>\n",
       "  </tbody>\n",
       "</table>\n",
       "</div>"
      ],
      "text/plain": [
       "   rating                                            reviews  sentiment_score  \\\n",
       "0       1  Recently UBISOFT had to settle a huge class-ac...              3.0   \n",
       "1       1                 code didn't work, got me a refund.              1.0   \n",
       "2       1  these do not work at all, all i get is static ...              1.0   \n",
       "3       1  well let me start by saying that when i first ...             -2.0   \n",
       "4       1  Dont waste your money, you will just end up us...              1.0   \n",
       "5       1  i ordered this and said it was tested and work...              1.0   \n",
       "6       1  UPDATE, 2010:  This review is pretty old, and ...             -3.0   \n",
       "7       1                     I WISH I COULD GET RID OF IT!!              2.0   \n",
       "8       1  What in the hell is this i can say that some o...              1.0   \n",
       "\n",
       "   rating_class  sentiment_score_class  \n",
       "0            -1                      1  \n",
       "1            -1                      1  \n",
       "2            -1                      1  \n",
       "3            -1                     -1  \n",
       "4            -1                      1  \n",
       "5            -1                      1  \n",
       "6            -1                     -1  \n",
       "7            -1                      1  \n",
       "8            -1                      1  "
      ]
     },
     "execution_count": 3,
     "metadata": {},
     "output_type": "execute_result"
    }
   ],
   "source": [
    "def rating_mapper(value):\n",
    "    if value == 5:\n",
    "        return 1\n",
    "    if value == 1:\n",
    "        return -1\n",
    "    return 0\n",
    "\n",
    "def sentiment_score_mapper(value):\n",
    "    if value >0.2:\n",
    "        return 1\n",
    "    if value < -0.2:\n",
    "        return -1\n",
    "    return 0\n",
    "\n",
    "smallsentiment_df[\"rating_class\"]  = smallsentiment_df[\"rating\"].map(rating_mapper)\n",
    "smallsentiment_df[\"sentiment_score_class\"]  = smallsentiment_df[\"sentiment_score\"].map(sentiment_score_mapper)\n",
    "\n",
    "\n",
    "smallsentiment_df.head(9)"
   ]
  },
  {
   "cell_type": "code",
   "execution_count": 4,
   "metadata": {},
   "outputs": [
    {
     "name": "stdout",
     "output_type": "stream",
     "text": [
      "              precision    recall  f1-score   support\n",
      "\n",
      "    negative       0.72      0.20      0.32      1500\n",
      "     neutral       0.28      0.06      0.09      1500\n",
      "    positive       0.38      0.96      0.54      1500\n",
      "\n",
      "    accuracy                           0.41      4500\n",
      "   macro avg       0.46      0.41      0.32      4500\n",
      "weighted avg       0.46      0.41      0.32      4500\n",
      "\n"
     ]
    },
    {
     "name": "stderr",
     "output_type": "stream",
     "text": [
      "/home/siavash/anaconda3/envs/sent/lib/python3.7/site-packages/ipykernel/ipkernel.py:283: DeprecationWarning: `should_run_async` will not call `transform_cell` automatically in the future. Please pass the result to `transformed_cell` argument and any exception that happen during thetransform in `preprocessing_exc_tuple` in IPython 7.17 and above.\n",
      "  and should_run_async(code)\n"
     ]
    }
   ],
   "source": [
    "from sklearn.metrics import classification_report\n",
    "\n",
    "print(classification_report(smallsentiment_df[\"rating_class\"].tolist(),smallsentiment_df[\"sentiment_score_class\"].tolist(),target_names=[\"negative\",\"neutral\",\"positive\"]))"
   ]
  },
  {
   "cell_type": "code",
   "execution_count": 5,
   "metadata": {},
   "outputs": [
    {
     "name": "stderr",
     "output_type": "stream",
     "text": [
      "/home/siavash/anaconda3/envs/sent/lib/python3.7/site-packages/ipykernel/ipkernel.py:283: DeprecationWarning: `should_run_async` will not call `transform_cell` automatically in the future. Please pass the result to `transformed_cell` argument and any exception that happen during thetransform in `preprocessing_exc_tuple` in IPython 7.17 and above.\n",
      "  and should_run_async(code)\n",
      "/home/siavash/anaconda3/envs/sent/lib/python3.7/site-packages/scikitplot/plotters.py:37: DeprecationWarning: This module was deprecated in version 0.3.0 and its functions are spread throughout different modules. Please check the documentation and update your function calls as soon as possible. This module will be removed in 0.4.0\n",
      "  DeprecationWarning)\n"
     ]
    },
    {
     "data": {
      "text/plain": [
       "<AxesSubplot:title={'center':'Confusion Matrix'}, xlabel='Predicted label', ylabel='True label'>"
      ]
     },
     "execution_count": 5,
     "metadata": {},
     "output_type": "execute_result"
    },
    {
     "data": {
      "image/png": "[encoded data removed]",
      "text/plain": [
       "<Figure size 864x864 with 2 Axes>"
      ]
     },
     "metadata": {
      "needs_background": "light"
     },
     "output_type": "display_data"
    }
   ],
   "source": [
    "import scikitplot as skplt\n",
    "\n",
    "y_true = smallsentiment_df[\"rating_class\"].tolist()\n",
    "y_pred = smallsentiment_df[\"sentiment_score_class\"].tolist()\n",
    "skplt.metrics.plot_confusion_matrix(\n",
    "    y_true, \n",
    "    y_pred,\n",
    "    figsize=(12,12) )\n"
   ]
  },
  {
   "cell_type": "code",
   "execution_count": 7,
   "metadata": {},
   "outputs": [
    {
     "name": "stdout",
     "output_type": "stream",
     "text": [
      "[[ 303  173 1024]\n",
      " [  96   84 1320]\n",
      " [  19   45 1436]]\n"
     ]
    },
    {
     "name": "stderr",
     "output_type": "stream",
     "text": [
      "/home/siavash/anaconda3/envs/sent/lib/python3.7/site-packages/ipykernel/ipkernel.py:283: DeprecationWarning: `should_run_async` will not call `transform_cell` automatically in the future. Please pass the result to `transformed_cell` argument and any exception that happen during thetransform in `preprocessing_exc_tuple` in IPython 7.17 and above.\n",
      "  and should_run_async(code)\n"
     ]
    },
    {
     "data": {
      "text/html": [
       "\n",
       "<div id=\"altair-viz-39c679d3c8e341afa80f7d3babc938f7\"></div>\n",
       "<script type=\"text/javascript\">\n",
       "  (function(spec, embedOpt){\n",
       "    let outputDiv = document.currentScript.previousElementSibling;\n",
       "    if (outputDiv.id !== \"altair-viz-39c679d3c8e341afa80f7d3babc938f7\") {\n",
       "      outputDiv = document.getElementById(\"altair-viz-39c679d3c8e341afa80f7d3babc938f7\");\n",
       "    }\n",
       "    const paths = {\n",
       "      \"vega\": \"https://cdn.jsdelivr.net/npm//vega@5?noext\",\n",
       "      \"vega-lib\": \"https://cdn.jsdelivr.net/npm//vega-lib?noext\",\n",
       "      \"vega-lite\": \"https://cdn.jsdelivr.net/npm//vega-lite@4.8.1?noext\",\n",
       "      \"vega-embed\": \"https://cdn.jsdelivr.net/npm//vega-embed@6?noext\",\n",
       "    };\n",
       "\n",
       "    function loadScript(lib) {\n",
       "      return new Promise(function(resolve, reject) {\n",
       "        var s = document.createElement('script');\n",
       "        s.src = paths[lib];\n",
       "        s.async = true;\n",
       "        s.onload = () => resolve(paths[lib]);\n",
       "        s.onerror = () => reject(`Error loading script: ${paths[lib]}`);\n",
       "        document.getElementsByTagName(\"head\")[0].appendChild(s);\n",
       "      });\n",
       "    }\n",
       "\n",
       "    function showError(err) {\n",
       "      outputDiv.innerHTML = `<div class=\"error\" style=\"color:red;\">${err}</div>`;\n",
       "      throw err;\n",
       "    }\n",
       "\n",
       "    function displayChart(vegaEmbed) {\n",
       "      vegaEmbed(outputDiv, spec, embedOpt)\n",
       "        .catch(err => showError(`Javascript Error: ${err.message}<br>This usually means there's a typo in your chart specification. See the javascript console for the full traceback.`));\n",
       "    }\n",
       "\n",
       "    if(typeof define === \"function\" && define.amd) {\n",
       "      requirejs.config({paths});\n",
       "      require([\"vega-embed\"], displayChart, err => showError(`Error loading script: ${err.message}`));\n",
       "    } else if (typeof vegaEmbed === \"function\") {\n",
       "      displayChart(vegaEmbed);\n",
       "    } else {\n",
       "      loadScript(\"vega\")\n",
       "        .then(() => loadScript(\"vega-lite\"))\n",
       "        .then(() => loadScript(\"vega-embed\"))\n",
       "        .catch(showError)\n",
       "        .then(() => displayChart(vegaEmbed));\n",
       "    }\n",
       "  })({\"config\": {\"view\": {\"continuousWidth\": 400, \"continuousHeight\": 300}}, \"data\": {\"name\": \"data-fd3b6100107c1dff8ef53fde7402e188\"}, \"mark\": \"rect\", \"encoding\": {\"color\": {\"condition\": {\"type\": \"quantitative\", \"field\": \"confusion_matrix\", \"selection\": \"selector002\"}, \"value\": \"lightgray\"}, \"x\": {\"type\": \"nominal\", \"field\": \"predicted\"}, \"y\": {\"type\": \"nominal\", \"field\": \"actual\"}}, \"height\": 480, \"selection\": {\"selector002\": {\"type\": \"interval\", \"encodings\": [\"x\"], \"empty\": \"none\"}}, \"width\": 600, \"$schema\": \"https://vega.github.io/schema/vega-lite/v4.8.1.json\", \"datasets\": {\"data-fd3b6100107c1dff8ef53fde7402e188\": [{\"actual\": -1, \"predicted\": -1, \"confusion_matrix\": 303}, {\"actual\": -1, \"predicted\": 0, \"confusion_matrix\": 173}, {\"actual\": -1, \"predicted\": 1, \"confusion_matrix\": 1024}, {\"actual\": 0, \"predicted\": -1, \"confusion_matrix\": 96}, {\"actual\": 0, \"predicted\": 0, \"confusion_matrix\": 84}, {\"actual\": 0, \"predicted\": 1, \"confusion_matrix\": 1320}, {\"actual\": 1, \"predicted\": -1, \"confusion_matrix\": 19}, {\"actual\": 1, \"predicted\": 0, \"confusion_matrix\": 45}, {\"actual\": 1, \"predicted\": 1, \"confusion_matrix\": 1436}]}}, {\"mode\": \"vega-lite\"});\n",
       "</script>"
      ],
      "text/plain": [
       "alt.Chart(...)"
      ]
     },
     "execution_count": 7,
     "metadata": {},
     "output_type": "execute_result"
    }
   ],
   "source": [
    "from itertools import product\n",
    "import altair as alt\n",
    "from sklearn.metrics import confusion_matrix\n",
    "import numpy as np\n",
    "import pandas as pd\n",
    "\n",
    "labels = np.unique(y_true)\n",
    "cm = confusion_matrix(y_true, y_pred, labels=labels)\n",
    "print(cm)\n",
    "cm = [y for i in cm for y in i]\n",
    "roll = list(product(np.unique(y_true), repeat = 2))\n",
    "columns = [\"actual\", \"predicted\", \"confusion_matrix\"]\n",
    "df = pd.DataFrame(columns=columns)\n",
    "for i in range(len(roll)):\n",
    "    df = df.append({'actual':roll[i][0], 'predicted':roll[i][1], 'confusion_matrix':cm[i]}, ignore_index=True)\n",
    "#plot figure\n",
    "def make_example(selector):\n",
    "    return alt.Chart(df).mark_rect().encode(\n",
    "        x=\"predicted:N\",\n",
    "        y=\"actual:N\",\n",
    "        color=alt.condition(selector, 'confusion_matrix', alt.value('lightgray'))\n",
    "    ).properties(\n",
    "        width=600,\n",
    "        height=480\n",
    "    ).add_selection(\n",
    "        selector\n",
    "    )\n",
    "interval_x = alt.selection_interval(encodings=['x'], empty='none')\n",
    "make_example(interval_x)\n"
   ]
  },
  {
   "cell_type": "code",
   "execution_count": null,
   "metadata": {},
   "outputs": [],
   "source": []
  }
 ],
 "metadata": {
  "kernelspec": {
   "display_name": "SentimentAnalysis",
   "language": "python",
   "name": "python3"
  },
  "language_info": {
   "codemirror_mode": {
    "name": "ipython",
    "version": 3
   },
   "file_extension": ".py",
   "mimetype": "text/x-python",
   "name": "python",
   "nbconvert_exporter": "python",
   "pygments_lexer": "ipython3",
   "version": "3.7.9"
  }
 },
 "nbformat": 4,
 "nbformat_minor": 4
}
